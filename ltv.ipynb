{
 "cells": [
  {
   "cell_type": "code",
   "id": "initial_id",
   "metadata": {
    "collapsed": true,
    "ExecuteTime": {
     "end_time": "2025-03-08T19:27:40.918473Z",
     "start_time": "2025-03-08T19:27:13.339484Z"
    }
   },
   "source": [
    "import pandas as pd\n",
    "\n",
    "# Load the dataset (assuming the CSV file is in the working directory)\n",
    "df = pd.read_excel('data/Online Retail.xlsx')  # use correct encoding to handle special characters\n",
    "print(df.shape)  # Print the number of rows and columns\n",
    "df.head()        # Display the first few rows"
   ],
   "outputs": [
    {
     "name": "stdout",
     "output_type": "stream",
     "text": [
      "(541909, 8)\n"
     ]
    },
    {
     "data": {
      "text/plain": [
       "  InvoiceNo StockCode                          Description  Quantity  \\\n",
       "0    536365    85123A   WHITE HANGING HEART T-LIGHT HOLDER         6   \n",
       "1    536365     71053                  WHITE METAL LANTERN         6   \n",
       "2    536365    84406B       CREAM CUPID HEARTS COAT HANGER         8   \n",
       "3    536365    84029G  KNITTED UNION FLAG HOT WATER BOTTLE         6   \n",
       "4    536365    84029E       RED WOOLLY HOTTIE WHITE HEART.         6   \n",
       "\n",
       "          InvoiceDate  UnitPrice  CustomerID         Country  \n",
       "0 2010-12-01 08:26:00       2.55     17850.0  United Kingdom  \n",
       "1 2010-12-01 08:26:00       3.39     17850.0  United Kingdom  \n",
       "2 2010-12-01 08:26:00       2.75     17850.0  United Kingdom  \n",
       "3 2010-12-01 08:26:00       3.39     17850.0  United Kingdom  \n",
       "4 2010-12-01 08:26:00       3.39     17850.0  United Kingdom  "
      ],
      "text/html": [
       "<div>\n",
       "<style scoped>\n",
       "    .dataframe tbody tr th:only-of-type {\n",
       "        vertical-align: middle;\n",
       "    }\n",
       "\n",
       "    .dataframe tbody tr th {\n",
       "        vertical-align: top;\n",
       "    }\n",
       "\n",
       "    .dataframe thead th {\n",
       "        text-align: right;\n",
       "    }\n",
       "</style>\n",
       "<table border=\"1\" class=\"dataframe\">\n",
       "  <thead>\n",
       "    <tr style=\"text-align: right;\">\n",
       "      <th></th>\n",
       "      <th>InvoiceNo</th>\n",
       "      <th>StockCode</th>\n",
       "      <th>Description</th>\n",
       "      <th>Quantity</th>\n",
       "      <th>InvoiceDate</th>\n",
       "      <th>UnitPrice</th>\n",
       "      <th>CustomerID</th>\n",
       "      <th>Country</th>\n",
       "    </tr>\n",
       "  </thead>\n",
       "  <tbody>\n",
       "    <tr>\n",
       "      <th>0</th>\n",
       "      <td>536365</td>\n",
       "      <td>85123A</td>\n",
       "      <td>WHITE HANGING HEART T-LIGHT HOLDER</td>\n",
       "      <td>6</td>\n",
       "      <td>2010-12-01 08:26:00</td>\n",
       "      <td>2.55</td>\n",
       "      <td>17850.0</td>\n",
       "      <td>United Kingdom</td>\n",
       "    </tr>\n",
       "    <tr>\n",
       "      <th>1</th>\n",
       "      <td>536365</td>\n",
       "      <td>71053</td>\n",
       "      <td>WHITE METAL LANTERN</td>\n",
       "      <td>6</td>\n",
       "      <td>2010-12-01 08:26:00</td>\n",
       "      <td>3.39</td>\n",
       "      <td>17850.0</td>\n",
       "      <td>United Kingdom</td>\n",
       "    </tr>\n",
       "    <tr>\n",
       "      <th>2</th>\n",
       "      <td>536365</td>\n",
       "      <td>84406B</td>\n",
       "      <td>CREAM CUPID HEARTS COAT HANGER</td>\n",
       "      <td>8</td>\n",
       "      <td>2010-12-01 08:26:00</td>\n",
       "      <td>2.75</td>\n",
       "      <td>17850.0</td>\n",
       "      <td>United Kingdom</td>\n",
       "    </tr>\n",
       "    <tr>\n",
       "      <th>3</th>\n",
       "      <td>536365</td>\n",
       "      <td>84029G</td>\n",
       "      <td>KNITTED UNION FLAG HOT WATER BOTTLE</td>\n",
       "      <td>6</td>\n",
       "      <td>2010-12-01 08:26:00</td>\n",
       "      <td>3.39</td>\n",
       "      <td>17850.0</td>\n",
       "      <td>United Kingdom</td>\n",
       "    </tr>\n",
       "    <tr>\n",
       "      <th>4</th>\n",
       "      <td>536365</td>\n",
       "      <td>84029E</td>\n",
       "      <td>RED WOOLLY HOTTIE WHITE HEART.</td>\n",
       "      <td>6</td>\n",
       "      <td>2010-12-01 08:26:00</td>\n",
       "      <td>3.39</td>\n",
       "      <td>17850.0</td>\n",
       "      <td>United Kingdom</td>\n",
       "    </tr>\n",
       "  </tbody>\n",
       "</table>\n",
       "</div>"
      ]
     },
     "execution_count": 4,
     "metadata": {},
     "output_type": "execute_result"
    }
   ],
   "execution_count": 4
  },
  {
   "metadata": {
    "ExecuteTime": {
     "end_time": "2025-03-08T19:27:41.210750Z",
     "start_time": "2025-03-08T19:27:41.093824Z"
    }
   },
   "cell_type": "code",
   "source": [
    "# Convert InvoiceDate from string to datetime\n",
    "df['InvoiceDate'] = pd.to_datetime(df['InvoiceDate'])\n",
    "\n",
    "# Remove rows with missing CustomerID\n",
    "df = df.dropna(subset=['CustomerID'])\n",
    "\n",
    "# Remove cancellations (negative quantities or negative prices)\n",
    "df = df[df['Quantity'] > 0]\n",
    "df = df[df['UnitPrice'] > 0]\n",
    "\n",
    "# Confirm data is cleaned\n",
    "print(\"Rows after cleaning:\", df.shape[0])\n",
    "print(\"Number of unique customers:\", df['CustomerID'].nunique())\n"
   ],
   "id": "8318fa87d64e3354",
   "outputs": [
    {
     "name": "stdout",
     "output_type": "stream",
     "text": [
      "Rows after cleaning: 397884\n",
      "Number of unique customers: 4338\n"
     ]
    }
   ],
   "execution_count": 5
  },
  {
   "metadata": {
    "ExecuteTime": {
     "end_time": "2025-03-08T19:29:53.084398Z",
     "start_time": "2025-03-08T19:29:53.001038Z"
    }
   },
   "cell_type": "code",
   "source": [
    "# Compute total revenue for the entire period\n",
    "df['TotalPrice'] = df['Quantity'] * df['UnitPrice']\n",
    "total_revenue = df['TotalPrice'].sum()\n",
    "print(f\"Total revenue in dataset: £{total_revenue:.2f}\")\n",
    "\n",
    "# Compute the number of transactions (invoices) and items\n",
    "num_invoices = df['InvoiceNo'].nunique()\n",
    "num_products = df['StockCode'].nunique()\n",
    "print(\"Unique invoices:\", num_invoices)\n",
    "print(\"Unique products:\", num_products)\n",
    "\n",
    "# Compute customer-level metrics\n",
    "customer_group = df.groupby('CustomerID').agg({\n",
    "    'InvoiceNo': 'nunique',   # number of distinct invoices (orders) per customer\n",
    "    'Quantity': 'sum',        # total items bought per customer\n",
    "    'TotalPrice': 'sum'       # total money spent per customer\n",
    "}).rename(columns={'InvoiceNo':'OrderCount', 'Quantity':'TotalItems', 'TotalPrice':'TotalSpent'})\n",
    "\n",
    "print(customer_group[['OrderCount','TotalSpent']].describe())\n"
   ],
   "id": "85c60f3f2efb4319",
   "outputs": [
    {
     "name": "stdout",
     "output_type": "stream",
     "text": [
      "Total revenue in dataset: £8911407.90\n",
      "Unique invoices: 18532\n",
      "Unique products: 3665\n",
      "        OrderCount     TotalSpent\n",
      "count  4338.000000    4338.000000\n",
      "mean      4.272015    2054.266460\n",
      "std       7.697998    8989.230441\n",
      "min       1.000000       3.750000\n",
      "25%       1.000000     307.415000\n",
      "50%       2.000000     674.485000\n",
      "75%       5.000000    1661.740000\n",
      "max     209.000000  280206.020000\n"
     ]
    }
   ],
   "execution_count": 6
  },
  {
   "metadata": {
    "ExecuteTime": {
     "end_time": "2025-03-08T19:30:00.879276Z",
     "start_time": "2025-03-08T19:30:00.739934Z"
    }
   },
   "cell_type": "code",
   "source": [
    "# Define a cutoff date for calibration vs holdout period\n",
    "cutoff_date = pd.Timestamp('2011-09-01')  # use September 1, 2011 as the split\n",
    "\n",
    "# Split the data into calibration (train) and holdout (future) periods\n",
    "calibration_df = df[df['InvoiceDate'] < cutoff_date]\n",
    "holdout_df = df[df['InvoiceDate'] >= cutoff_date]\n",
    "\n",
    "# Calculate RFM features using the calibration period data\n",
    "import numpy as np\n",
    "\n",
    "current_date = calibration_df['InvoiceDate'].max()  # last date in calibration period\n",
    "# Group by customer on calibration period\n",
    "rfm = calibration_df.groupby('CustomerID').agg({\n",
    "    'InvoiceDate': lambda x: (current_date - x.max()).days,  # Recency: days since last purchase in calibration period\n",
    "    'InvoiceNo': 'nunique',    # Frequency: number of orders in calibration period\n",
    "    'TotalPrice': 'sum'        # Monetary: total spent in calibration period\n",
    "})\n",
    "rfm.columns = ['Recency', 'Frequency', 'Monetary']\n",
    "\n",
    "# Add Average Order Value\n",
    "rfm['AvgOrderValue'] = rfm['Monetary'] / rfm['Frequency']\n",
    "\n",
    "# Add Customer \"Tenure\" in calibration period (days between first and last purchase + 1)\n",
    "customer_first_date = calibration_df.groupby('CustomerID')['InvoiceDate'].min()\n",
    "rfm['Tenure'] = (current_date - customer_first_date).dt.days + 1\n",
    "\n",
    "rfm.head()\n"
   ],
   "id": "eb714fb4cb34560f",
   "outputs": [
    {
     "data": {
      "text/plain": [
       "            Recency  Frequency  Monetary  AvgOrderValue  Tenure\n",
       "CustomerID                                                     \n",
       "12346.0         225          1  77183.60   77183.600000     226\n",
       "12347.0          29          5   2790.86     558.172000     268\n",
       "12348.0         148          3   1487.24     495.746667     258\n",
       "12350.0         210          1    334.40     334.400000     211\n",
       "12352.0         162          5   1561.81     312.362000     197"
      ],
      "text/html": [
       "<div>\n",
       "<style scoped>\n",
       "    .dataframe tbody tr th:only-of-type {\n",
       "        vertical-align: middle;\n",
       "    }\n",
       "\n",
       "    .dataframe tbody tr th {\n",
       "        vertical-align: top;\n",
       "    }\n",
       "\n",
       "    .dataframe thead th {\n",
       "        text-align: right;\n",
       "    }\n",
       "</style>\n",
       "<table border=\"1\" class=\"dataframe\">\n",
       "  <thead>\n",
       "    <tr style=\"text-align: right;\">\n",
       "      <th></th>\n",
       "      <th>Recency</th>\n",
       "      <th>Frequency</th>\n",
       "      <th>Monetary</th>\n",
       "      <th>AvgOrderValue</th>\n",
       "      <th>Tenure</th>\n",
       "    </tr>\n",
       "    <tr>\n",
       "      <th>CustomerID</th>\n",
       "      <th></th>\n",
       "      <th></th>\n",
       "      <th></th>\n",
       "      <th></th>\n",
       "      <th></th>\n",
       "    </tr>\n",
       "  </thead>\n",
       "  <tbody>\n",
       "    <tr>\n",
       "      <th>12346.0</th>\n",
       "      <td>225</td>\n",
       "      <td>1</td>\n",
       "      <td>77183.60</td>\n",
       "      <td>77183.600000</td>\n",
       "      <td>226</td>\n",
       "    </tr>\n",
       "    <tr>\n",
       "      <th>12347.0</th>\n",
       "      <td>29</td>\n",
       "      <td>5</td>\n",
       "      <td>2790.86</td>\n",
       "      <td>558.172000</td>\n",
       "      <td>268</td>\n",
       "    </tr>\n",
       "    <tr>\n",
       "      <th>12348.0</th>\n",
       "      <td>148</td>\n",
       "      <td>3</td>\n",
       "      <td>1487.24</td>\n",
       "      <td>495.746667</td>\n",
       "      <td>258</td>\n",
       "    </tr>\n",
       "    <tr>\n",
       "      <th>12350.0</th>\n",
       "      <td>210</td>\n",
       "      <td>1</td>\n",
       "      <td>334.40</td>\n",
       "      <td>334.400000</td>\n",
       "      <td>211</td>\n",
       "    </tr>\n",
       "    <tr>\n",
       "      <th>12352.0</th>\n",
       "      <td>162</td>\n",
       "      <td>5</td>\n",
       "      <td>1561.81</td>\n",
       "      <td>312.362000</td>\n",
       "      <td>197</td>\n",
       "    </tr>\n",
       "  </tbody>\n",
       "</table>\n",
       "</div>"
      ]
     },
     "execution_count": 7,
     "metadata": {},
     "output_type": "execute_result"
    }
   ],
   "execution_count": 7
  },
  {
   "metadata": {
    "ExecuteTime": {
     "end_time": "2025-03-08T19:30:07.702580Z",
     "start_time": "2025-03-08T19:30:07.680816Z"
    }
   },
   "cell_type": "code",
   "source": [
    "# Compute actual LTV in holdout period (e.g., total spending Oct-Dec 2011 for each customer)\n",
    "actual_ltv = holdout_df.groupby('CustomerID')['TotalPrice'].sum().rename(\"LTV_Future\")\n",
    "# Customers with no purchases in holdout will not appear in this groupby, so we fill them with 0\n",
    "rfm = rfm.join(actual_ltv, how='left')\n",
    "rfm['LTV_Future'] = rfm['LTV_Future'].fillna(0)\n",
    "print(rfm[['Frequency','Monetary','LTV_Future']].head(10))\n"
   ],
   "id": "d696d62b27434eb2",
   "outputs": [
    {
     "name": "stdout",
     "output_type": "stream",
     "text": [
      "            Frequency  Monetary  LTV_Future\n",
      "CustomerID                                 \n",
      "12346.0             1  77183.60        0.00\n",
      "12347.0             5   2790.86     1519.14\n",
      "12348.0             3   1487.24      310.00\n",
      "12350.0             1    334.40        0.00\n",
      "12352.0             5   1561.81      944.23\n",
      "12353.0             1     89.00        0.00\n",
      "12354.0             1   1079.40        0.00\n",
      "12355.0             1    459.40        0.00\n",
      "12356.0             2   2753.08       58.35\n",
      "12358.0             1    484.86      683.20\n"
     ]
    }
   ],
   "execution_count": 8
  },
  {
   "metadata": {
    "ExecuteTime": {
     "end_time": "2025-03-08T19:30:21.253434Z",
     "start_time": "2025-03-08T19:30:15.694877Z"
    }
   },
   "cell_type": "code",
   "source": [
    "# Define feature matrix X and target y\n",
    "features = ['Recency', 'Frequency', 'Monetary', 'AvgOrderValue', 'Tenure']\n",
    "X = rfm[features].values\n",
    "y = rfm['LTV_Future'].values\n",
    "\n",
    "# Split into train and test sets (e.g., 80/20 split of customers)\n",
    "from sklearn.model_selection import train_test_split\n",
    "X_train, X_test, y_train, y_test = train_test_split(X, y, test_size=0.2, random_state=42)\n"
   ],
   "id": "bf4a8c9040bde5cf",
   "outputs": [
    {
     "name": "stderr",
     "output_type": "stream",
     "text": [
      "<frozen importlib._bootstrap>:241: RuntimeWarning: scipy._lib.messagestream.MessageStream size changed, may indicate binary incompatibility. Expected 56 from C header, got 64 from PyObject\n"
     ]
    }
   ],
   "execution_count": 9
  },
  {
   "metadata": {
    "ExecuteTime": {
     "end_time": "2025-03-08T19:30:24.933067Z",
     "start_time": "2025-03-08T19:30:24.299437Z"
    }
   },
   "cell_type": "code",
   "source": [
    "from sklearn.linear_model import LinearRegression\n",
    "linreg = LinearRegression()\n",
    "linreg.fit(X_train, y_train)\n",
    "\n",
    "# Coefficients of the linear model\n",
    "coef = linreg.coef_\n",
    "intercept = linreg.intercept_\n",
    "print(\"Intercept:\", intercept)\n",
    "print(\"Coefficients:\", list(zip(features, coef)))\n",
    "\n",
    "# Predict on test set\n",
    "y_pred_lr = linreg.predict(X_test)\n"
   ],
   "id": "1e8ab49a144c4b35",
   "outputs": [
    {
     "name": "stdout",
     "output_type": "stream",
     "text": [
      "Intercept: 749.341676026433\n",
      "Coefficients: [('Recency', 1.881913016743183), ('Frequency', 48.9762438190595), ('Monetary', 0.558148472356389), ('AvgOrderValue', -0.9377146973564898), ('Tenure', -3.971588836477753)]\n"
     ]
    }
   ],
   "execution_count": 10
  },
  {
   "metadata": {
    "ExecuteTime": {
     "end_time": "2025-03-08T19:30:32.930784Z",
     "start_time": "2025-03-08T19:30:30.399534Z"
    }
   },
   "cell_type": "code",
   "source": [
    "from sklearn.ensemble import RandomForestRegressor\n",
    "\n",
    "# Initialize Random Forest with some parameters\n",
    "rf = RandomForestRegressor(n_estimators=100, max_depth=5, random_state=42)\n",
    "rf.fit(X_train, y_train)\n",
    "\n",
    "# Feature importance can tell us which features the model found most predictive\n",
    "importances = rf.feature_importances_\n",
    "print(\"Feature importances:\", list(zip(features, importances)))\n",
    "\n",
    "# Predict on test set\n",
    "y_pred_rf = rf.predict(X_test)\n"
   ],
   "id": "372ff7d228e429d2",
   "outputs": [
    {
     "name": "stdout",
     "output_type": "stream",
     "text": [
      "Feature importances: [('Recency', 0.015418926875334213), ('Frequency', 0.027398287317184734), ('Monetary', 0.6734283366985867), ('AvgOrderValue', 0.25776192254975044), ('Tenure', 0.025992526559143882)]\n"
     ]
    }
   ],
   "execution_count": 11
  },
  {
   "metadata": {
    "ExecuteTime": {
     "end_time": "2025-03-08T19:30:37.161805Z",
     "start_time": "2025-03-08T19:30:36.711924Z"
    }
   },
   "cell_type": "code",
   "source": [
    "# Example only; not executed here\n",
    "import xgboost as xgb\n",
    "xgb_model = xgb.XGBRegressor(objective='reg:squarederror', n_estimators=100, learning_rate=0.1)\n",
    "xgb_model.fit(X_train, y_train)\n",
    "y_pred_xgb = xgb_model.predict(X_test)\n"
   ],
   "id": "139713cbb9463c21",
   "outputs": [],
   "execution_count": 12
  },
  {
   "metadata": {
    "ExecuteTime": {
     "end_time": "2025-03-08T19:30:47.245003Z",
     "start_time": "2025-03-08T19:30:47.141583Z"
    }
   },
   "cell_type": "code",
   "source": [
    "    # Create R, F, M quartile scores (1 = lowest, 4 = highest)\n",
    "rfm['R_rank'] = pd.qcut(rfm['Recency'], 4, labels=[4,3,2,1])  # for Recency, lower = better, so invert labels\n",
    "rfm['F_rank'] = pd.qcut(rfm['Frequency'], 4, labels=[1,2,3,4])\n",
    "rfm['M_rank'] = pd.qcut(rfm['Monetary'], 4, labels=[1,2,3,4])\n",
    "rfm['RFM_Score'] = rfm['R_rank'].astype(str) + rfm['F_rank'].astype(str) + rfm['M_rank'].astype(str)\n"
   ],
   "id": "30426ada66eb2dd",
   "outputs": [
    {
     "ename": "ValueError",
     "evalue": "Bin edges must be unique: Index([1.0, 1.0, 2.0, 4.0, 127.0], dtype='float64', name='Frequency').\nYou can drop duplicate edges by setting the 'duplicates' kwarg",
     "output_type": "error",
     "traceback": [
      "\u001B[0;31m---------------------------------------------------------------------------\u001B[0m",
      "\u001B[0;31mValueError\u001B[0m                                Traceback (most recent call last)",
      "Cell \u001B[0;32mIn [13], line 3\u001B[0m\n\u001B[1;32m      1\u001B[0m \u001B[38;5;66;03m# Create R, F, M quartile scores (1 = lowest, 4 = highest)\u001B[39;00m\n\u001B[1;32m      2\u001B[0m rfm[\u001B[38;5;124m'\u001B[39m\u001B[38;5;124mR_rank\u001B[39m\u001B[38;5;124m'\u001B[39m] \u001B[38;5;241m=\u001B[39m pd\u001B[38;5;241m.\u001B[39mqcut(rfm[\u001B[38;5;124m'\u001B[39m\u001B[38;5;124mRecency\u001B[39m\u001B[38;5;124m'\u001B[39m], \u001B[38;5;241m4\u001B[39m, labels\u001B[38;5;241m=\u001B[39m[\u001B[38;5;241m4\u001B[39m,\u001B[38;5;241m3\u001B[39m,\u001B[38;5;241m2\u001B[39m,\u001B[38;5;241m1\u001B[39m])  \u001B[38;5;66;03m# for Recency, lower = better, so invert labels\u001B[39;00m\n\u001B[0;32m----> 3\u001B[0m rfm[\u001B[38;5;124m'\u001B[39m\u001B[38;5;124mF_rank\u001B[39m\u001B[38;5;124m'\u001B[39m] \u001B[38;5;241m=\u001B[39m \u001B[43mpd\u001B[49m\u001B[38;5;241;43m.\u001B[39;49m\u001B[43mqcut\u001B[49m\u001B[43m(\u001B[49m\u001B[43mrfm\u001B[49m\u001B[43m[\u001B[49m\u001B[38;5;124;43m'\u001B[39;49m\u001B[38;5;124;43mFrequency\u001B[39;49m\u001B[38;5;124;43m'\u001B[39;49m\u001B[43m]\u001B[49m\u001B[43m,\u001B[49m\u001B[43m \u001B[49m\u001B[38;5;241;43m4\u001B[39;49m\u001B[43m,\u001B[49m\u001B[43m \u001B[49m\u001B[43mlabels\u001B[49m\u001B[38;5;241;43m=\u001B[39;49m\u001B[43m[\u001B[49m\u001B[38;5;241;43m1\u001B[39;49m\u001B[43m,\u001B[49m\u001B[38;5;241;43m2\u001B[39;49m\u001B[43m,\u001B[49m\u001B[38;5;241;43m3\u001B[39;49m\u001B[43m,\u001B[49m\u001B[38;5;241;43m4\u001B[39;49m\u001B[43m]\u001B[49m\u001B[43m)\u001B[49m\n\u001B[1;32m      4\u001B[0m rfm[\u001B[38;5;124m'\u001B[39m\u001B[38;5;124mM_rank\u001B[39m\u001B[38;5;124m'\u001B[39m] \u001B[38;5;241m=\u001B[39m pd\u001B[38;5;241m.\u001B[39mqcut(rfm[\u001B[38;5;124m'\u001B[39m\u001B[38;5;124mMonetary\u001B[39m\u001B[38;5;124m'\u001B[39m], \u001B[38;5;241m4\u001B[39m, labels\u001B[38;5;241m=\u001B[39m[\u001B[38;5;241m1\u001B[39m,\u001B[38;5;241m2\u001B[39m,\u001B[38;5;241m3\u001B[39m,\u001B[38;5;241m4\u001B[39m])\n\u001B[1;32m      5\u001B[0m rfm[\u001B[38;5;124m'\u001B[39m\u001B[38;5;124mRFM_Score\u001B[39m\u001B[38;5;124m'\u001B[39m] \u001B[38;5;241m=\u001B[39m rfm[\u001B[38;5;124m'\u001B[39m\u001B[38;5;124mR_rank\u001B[39m\u001B[38;5;124m'\u001B[39m]\u001B[38;5;241m.\u001B[39mastype(\u001B[38;5;28mstr\u001B[39m) \u001B[38;5;241m+\u001B[39m rfm[\u001B[38;5;124m'\u001B[39m\u001B[38;5;124mF_rank\u001B[39m\u001B[38;5;124m'\u001B[39m]\u001B[38;5;241m.\u001B[39mastype(\u001B[38;5;28mstr\u001B[39m) \u001B[38;5;241m+\u001B[39m rfm[\u001B[38;5;124m'\u001B[39m\u001B[38;5;124mM_rank\u001B[39m\u001B[38;5;124m'\u001B[39m]\u001B[38;5;241m.\u001B[39mastype(\u001B[38;5;28mstr\u001B[39m)\n",
      "File \u001B[0;32m~/miniforge3/envs/xerini/lib/python3.10/site-packages/pandas/core/reshape/tile.py:340\u001B[0m, in \u001B[0;36mqcut\u001B[0;34m(x, q, labels, retbins, precision, duplicates)\u001B[0m\n\u001B[1;32m    336\u001B[0m quantiles \u001B[38;5;241m=\u001B[39m np\u001B[38;5;241m.\u001B[39mlinspace(\u001B[38;5;241m0\u001B[39m, \u001B[38;5;241m1\u001B[39m, q \u001B[38;5;241m+\u001B[39m \u001B[38;5;241m1\u001B[39m) \u001B[38;5;28;01mif\u001B[39;00m is_integer(q) \u001B[38;5;28;01melse\u001B[39;00m q\n\u001B[1;32m    338\u001B[0m bins \u001B[38;5;241m=\u001B[39m x_idx\u001B[38;5;241m.\u001B[39mto_series()\u001B[38;5;241m.\u001B[39mdropna()\u001B[38;5;241m.\u001B[39mquantile(quantiles)\n\u001B[0;32m--> 340\u001B[0m fac, bins \u001B[38;5;241m=\u001B[39m \u001B[43m_bins_to_cuts\u001B[49m\u001B[43m(\u001B[49m\n\u001B[1;32m    341\u001B[0m \u001B[43m    \u001B[49m\u001B[43mx_idx\u001B[49m\u001B[43m,\u001B[49m\n\u001B[1;32m    342\u001B[0m \u001B[43m    \u001B[49m\u001B[43mIndex\u001B[49m\u001B[43m(\u001B[49m\u001B[43mbins\u001B[49m\u001B[43m)\u001B[49m\u001B[43m,\u001B[49m\n\u001B[1;32m    343\u001B[0m \u001B[43m    \u001B[49m\u001B[43mlabels\u001B[49m\u001B[38;5;241;43m=\u001B[39;49m\u001B[43mlabels\u001B[49m\u001B[43m,\u001B[49m\n\u001B[1;32m    344\u001B[0m \u001B[43m    \u001B[49m\u001B[43mprecision\u001B[49m\u001B[38;5;241;43m=\u001B[39;49m\u001B[43mprecision\u001B[49m\u001B[43m,\u001B[49m\n\u001B[1;32m    345\u001B[0m \u001B[43m    \u001B[49m\u001B[43minclude_lowest\u001B[49m\u001B[38;5;241;43m=\u001B[39;49m\u001B[38;5;28;43;01mTrue\u001B[39;49;00m\u001B[43m,\u001B[49m\n\u001B[1;32m    346\u001B[0m \u001B[43m    \u001B[49m\u001B[43mduplicates\u001B[49m\u001B[38;5;241;43m=\u001B[39;49m\u001B[43mduplicates\u001B[49m\u001B[43m,\u001B[49m\n\u001B[1;32m    347\u001B[0m \u001B[43m\u001B[49m\u001B[43m)\u001B[49m\n\u001B[1;32m    349\u001B[0m \u001B[38;5;28;01mreturn\u001B[39;00m _postprocess_for_cut(fac, bins, retbins, original)\n",
      "File \u001B[0;32m~/miniforge3/envs/xerini/lib/python3.10/site-packages/pandas/core/reshape/tile.py:443\u001B[0m, in \u001B[0;36m_bins_to_cuts\u001B[0;34m(x_idx, bins, right, labels, precision, include_lowest, duplicates, ordered)\u001B[0m\n\u001B[1;32m    441\u001B[0m \u001B[38;5;28;01mif\u001B[39;00m \u001B[38;5;28mlen\u001B[39m(unique_bins) \u001B[38;5;241m<\u001B[39m \u001B[38;5;28mlen\u001B[39m(bins) \u001B[38;5;129;01mand\u001B[39;00m \u001B[38;5;28mlen\u001B[39m(bins) \u001B[38;5;241m!=\u001B[39m \u001B[38;5;241m2\u001B[39m:\n\u001B[1;32m    442\u001B[0m     \u001B[38;5;28;01mif\u001B[39;00m duplicates \u001B[38;5;241m==\u001B[39m \u001B[38;5;124m\"\u001B[39m\u001B[38;5;124mraise\u001B[39m\u001B[38;5;124m\"\u001B[39m:\n\u001B[0;32m--> 443\u001B[0m         \u001B[38;5;28;01mraise\u001B[39;00m \u001B[38;5;167;01mValueError\u001B[39;00m(\n\u001B[1;32m    444\u001B[0m             \u001B[38;5;124mf\u001B[39m\u001B[38;5;124m\"\u001B[39m\u001B[38;5;124mBin edges must be unique: \u001B[39m\u001B[38;5;132;01m{\u001B[39;00m\u001B[38;5;28mrepr\u001B[39m(bins)\u001B[38;5;132;01m}\u001B[39;00m\u001B[38;5;124m.\u001B[39m\u001B[38;5;130;01m\\n\u001B[39;00m\u001B[38;5;124m\"\u001B[39m\n\u001B[1;32m    445\u001B[0m             \u001B[38;5;124mf\u001B[39m\u001B[38;5;124m\"\u001B[39m\u001B[38;5;124mYou can drop duplicate edges by setting the \u001B[39m\u001B[38;5;124m'\u001B[39m\u001B[38;5;124mduplicates\u001B[39m\u001B[38;5;124m'\u001B[39m\u001B[38;5;124m kwarg\u001B[39m\u001B[38;5;124m\"\u001B[39m\n\u001B[1;32m    446\u001B[0m         )\n\u001B[1;32m    447\u001B[0m     bins \u001B[38;5;241m=\u001B[39m unique_bins\n\u001B[1;32m    449\u001B[0m side: Literal[\u001B[38;5;124m\"\u001B[39m\u001B[38;5;124mleft\u001B[39m\u001B[38;5;124m\"\u001B[39m, \u001B[38;5;124m\"\u001B[39m\u001B[38;5;124mright\u001B[39m\u001B[38;5;124m\"\u001B[39m] \u001B[38;5;241m=\u001B[39m \u001B[38;5;124m\"\u001B[39m\u001B[38;5;124mleft\u001B[39m\u001B[38;5;124m\"\u001B[39m \u001B[38;5;28;01mif\u001B[39;00m right \u001B[38;5;28;01melse\u001B[39;00m \u001B[38;5;124m\"\u001B[39m\u001B[38;5;124mright\u001B[39m\u001B[38;5;124m\"\u001B[39m\n",
      "\u001B[0;31mValueError\u001B[0m: Bin edges must be unique: Index([1.0, 1.0, 2.0, 4.0, 127.0], dtype='float64', name='Frequency').\nYou can drop duplicate edges by setting the 'duplicates' kwarg"
     ]
    }
   ],
   "execution_count": 13
  }
 ],
 "metadata": {
  "kernelspec": {
   "display_name": "Python 3",
   "language": "python",
   "name": "python3"
  },
  "language_info": {
   "codemirror_mode": {
    "name": "ipython",
    "version": 2
   },
   "file_extension": ".py",
   "mimetype": "text/x-python",
   "name": "python",
   "nbconvert_exporter": "python",
   "pygments_lexer": "ipython2",
   "version": "2.7.6"
  }
 },
 "nbformat": 4,
 "nbformat_minor": 5
}
