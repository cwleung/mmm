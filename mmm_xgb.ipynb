{
 "cells": [
  {
   "cell_type": "code",
   "id": "initial_id",
   "metadata": {
    "collapsed": true,
    "ExecuteTime": {
     "end_time": "2025-03-09T11:55:42.659080Z",
     "start_time": "2025-03-09T11:55:42.644317Z"
    }
   },
   "source": [
    "import pandas as pd\n",
    "\n",
    "# Load dataset (assuming it's a CSV file with weekly data)\n",
    "df = pd.read_csv(\"data/MMM_data.csv\")  # contains columns: DATE, revenue, tv_S, ooh_S, print_S, facebook_I, search_clicks_P, search_S, competitor_sales_B, facebook_S, events, newsletter\n",
    "# Convert DATE to datetime and sort by date\n",
    "df['DATE'] = pd.to_datetime(df['DATE'])\n",
    "df = df.sort_values('DATE').set_index('DATE')\n",
    "# Quick check for missing values\n",
    "print(df.isnull().sum())\n",
    "# Separate target and features\n",
    "y = df['revenue']          # sales revenue (target)\n",
    "X = df.drop(columns=['revenue'])\n"
   ],
   "outputs": [
    {
     "name": "stdout",
     "output_type": "stream",
     "text": [
      "revenue               0\n",
      "tv_S                  0\n",
      "ooh_S                 0\n",
      "print_S               0\n",
      "facebook_I            0\n",
      "search_clicks_P       0\n",
      "search_S              0\n",
      "competitor_sales_B    0\n",
      "facebook_S            0\n",
      "events                0\n",
      "newsletter            0\n",
      "dtype: int64\n"
     ]
    }
   ],
   "execution_count": 49
  },
  {
   "metadata": {},
   "cell_type": "markdown",
   "source": [
    "# Feature Engineering\n",
    "\n",
    "## Lag features and moving averages\n",
    "\n",
    "## Adstock transformation\n",
    "\n"
   ],
   "id": "23e8d749fedba4af"
  },
  {
   "metadata": {
    "ExecuteTime": {
     "end_time": "2025-03-09T11:55:42.679882Z",
     "start_time": "2025-03-09T11:55:42.671294Z"
    }
   },
   "cell_type": "code",
   "source": [
    "# Create a 1-week lag of sales as a feature\n",
    "X['lag1_revenue'] = y.shift(1)\n",
    "# 4-week moving average of sales (to capture trend/seasonality)\n",
    "X['MA4_revenue'] = y.rolling(window=4, min_periods=1).mean()\n",
    "\n",
    "# Define adstock transformation function\n",
    "def adstock(series, alpha=0.5):\n",
    "    result = []\n",
    "    carry = 0.0\n",
    "    for val in series:\n",
    "        carry = val + alpha * carry\n",
    "        result.append(carry)\n",
    "    return pd.Series(result, index=series.index)\n",
    "\n",
    "# Apply adstock to each ad spend channel\n",
    "for col in ['tv_S','ooh_S','print_S','facebook_S','search_S']:\n",
    "    X[f'{col}_adstock'] = adstock(X[col], alpha=0.5)\n",
    "\n",
    "# Drop original spend columns (and related exposure columns) now that we have adstock\n",
    "X.drop(columns=['tv_S','ooh_S','print_S','facebook_S','facebook_I','search_S','search_clicks_P','events'], inplace=True)\n",
    "\n",
    "# Align features and target (drop the first row due to lag)\n",
    "X = X.iloc[1:]\n",
    "y = y.iloc[1:]\n",
    "print(X.columns)"
   ],
   "id": "d8be3c26f57418ec",
   "outputs": [
    {
     "name": "stdout",
     "output_type": "stream",
     "text": [
      "Index(['competitor_sales_B', 'newsletter', 'lag1_revenue', 'MA4_revenue',\n",
      "       'tv_S_adstock', 'ooh_S_adstock', 'print_S_adstock',\n",
      "       'facebook_S_adstock', 'search_S_adstock'],\n",
      "      dtype='object')\n"
     ]
    }
   ],
   "execution_count": 50
  },
  {
   "metadata": {},
   "cell_type": "markdown",
   "source": "# Model Training\n",
   "id": "383c344a6b8b791a"
  },
  {
   "metadata": {
    "ExecuteTime": {
     "end_time": "2025-03-09T11:55:58.665862Z",
     "start_time": "2025-03-09T11:55:58.428949Z"
    }
   },
   "cell_type": "code",
   "source": [
    "# Split into training and testing sets (train: 2016-2018, test: 2019)\n",
    "train_X = X[:'2018-12-31']\n",
    "train_y = y[:'2018-12-31']\n",
    "test_X  = X['2019-01-01':]\n",
    "test_y  = y['2019-01-01':]\n",
    "print(f\"Train samples: {len(train_X)}, Test samples: {len(test_X)}\")\n",
    "\n",
    "# Train an XGBoost Regression model\n",
    "from xgboost import XGBRegressor\n",
    "model = XGBRegressor(n_estimators=100, learning_rate=0.1, random_state=42, n_jobs=1)\n",
    "model.fit(train_X, train_y)"
   ],
   "id": "5c4459ff2c3ea12f",
   "outputs": [
    {
     "name": "stdout",
     "output_type": "stream",
     "text": [
      "Train samples: 162, Test samples: 45\n"
     ]
    },
    {
     "ename": "AttributeError",
     "evalue": "'super' object has no attribute '__sklearn_tags__'",
     "output_type": "error",
     "traceback": [
      "\u001B[0;31m---------------------------------------------------------------------------\u001B[0m",
      "\u001B[0;31mAttributeError\u001B[0m                            Traceback (most recent call last)",
      "File \u001B[0;32m~/miniforge3/envs/xerini/lib/python3.10/site-packages/IPython/core/formatters.py:973\u001B[0m, in \u001B[0;36mMimeBundleFormatter.__call__\u001B[0;34m(self, obj, include, exclude)\u001B[0m\n\u001B[1;32m    970\u001B[0m     method \u001B[38;5;241m=\u001B[39m get_real_method(obj, \u001B[38;5;28mself\u001B[39m\u001B[38;5;241m.\u001B[39mprint_method)\n\u001B[1;32m    972\u001B[0m     \u001B[38;5;28;01mif\u001B[39;00m method \u001B[38;5;129;01mis\u001B[39;00m \u001B[38;5;129;01mnot\u001B[39;00m \u001B[38;5;28;01mNone\u001B[39;00m:\n\u001B[0;32m--> 973\u001B[0m         \u001B[38;5;28;01mreturn\u001B[39;00m \u001B[43mmethod\u001B[49m\u001B[43m(\u001B[49m\u001B[43minclude\u001B[49m\u001B[38;5;241;43m=\u001B[39;49m\u001B[43minclude\u001B[49m\u001B[43m,\u001B[49m\u001B[43m \u001B[49m\u001B[43mexclude\u001B[49m\u001B[38;5;241;43m=\u001B[39;49m\u001B[43mexclude\u001B[49m\u001B[43m)\u001B[49m\n\u001B[1;32m    974\u001B[0m     \u001B[38;5;28;01mreturn\u001B[39;00m \u001B[38;5;28;01mNone\u001B[39;00m\n\u001B[1;32m    975\u001B[0m \u001B[38;5;28;01melse\u001B[39;00m:\n",
      "File \u001B[0;32m~/miniforge3/envs/xerini/lib/python3.10/site-packages/sklearn/base.py:469\u001B[0m, in \u001B[0;36mBaseEstimator._repr_mimebundle_\u001B[0;34m(self, **kwargs)\u001B[0m\n\u001B[1;32m    467\u001B[0m output \u001B[38;5;241m=\u001B[39m {\u001B[38;5;124m\"\u001B[39m\u001B[38;5;124mtext/plain\u001B[39m\u001B[38;5;124m\"\u001B[39m: \u001B[38;5;28mrepr\u001B[39m(\u001B[38;5;28mself\u001B[39m)}\n\u001B[1;32m    468\u001B[0m \u001B[38;5;28;01mif\u001B[39;00m get_config()[\u001B[38;5;124m\"\u001B[39m\u001B[38;5;124mdisplay\u001B[39m\u001B[38;5;124m\"\u001B[39m] \u001B[38;5;241m==\u001B[39m \u001B[38;5;124m\"\u001B[39m\u001B[38;5;124mdiagram\u001B[39m\u001B[38;5;124m\"\u001B[39m:\n\u001B[0;32m--> 469\u001B[0m     output[\u001B[38;5;124m\"\u001B[39m\u001B[38;5;124mtext/html\u001B[39m\u001B[38;5;124m\"\u001B[39m] \u001B[38;5;241m=\u001B[39m \u001B[43mestimator_html_repr\u001B[49m\u001B[43m(\u001B[49m\u001B[38;5;28;43mself\u001B[39;49m\u001B[43m)\u001B[49m\n\u001B[1;32m    470\u001B[0m \u001B[38;5;28;01mreturn\u001B[39;00m output\n",
      "File \u001B[0;32m~/miniforge3/envs/xerini/lib/python3.10/site-packages/sklearn/utils/_estimator_html_repr.py:387\u001B[0m, in \u001B[0;36mestimator_html_repr\u001B[0;34m(estimator)\u001B[0m\n\u001B[1;32m    385\u001B[0m \u001B[38;5;28;01melse\u001B[39;00m:\n\u001B[1;32m    386\u001B[0m     \u001B[38;5;28;01mtry\u001B[39;00m:\n\u001B[0;32m--> 387\u001B[0m         \u001B[43mcheck_is_fitted\u001B[49m\u001B[43m(\u001B[49m\u001B[43mestimator\u001B[49m\u001B[43m)\u001B[49m\n\u001B[1;32m    388\u001B[0m         status_label \u001B[38;5;241m=\u001B[39m \u001B[38;5;124m\"\u001B[39m\u001B[38;5;124m<span>Fitted</span>\u001B[39m\u001B[38;5;124m\"\u001B[39m\n\u001B[1;32m    389\u001B[0m         is_fitted_css_class \u001B[38;5;241m=\u001B[39m \u001B[38;5;124m\"\u001B[39m\u001B[38;5;124mfitted\u001B[39m\u001B[38;5;124m\"\u001B[39m\n",
      "File \u001B[0;32m~/miniforge3/envs/xerini/lib/python3.10/site-packages/sklearn/utils/validation.py:1751\u001B[0m, in \u001B[0;36mcheck_is_fitted\u001B[0;34m(estimator, attributes, msg, all_or_any)\u001B[0m\n\u001B[1;32m   1748\u001B[0m \u001B[38;5;28;01mif\u001B[39;00m \u001B[38;5;129;01mnot\u001B[39;00m \u001B[38;5;28mhasattr\u001B[39m(estimator, \u001B[38;5;124m\"\u001B[39m\u001B[38;5;124mfit\u001B[39m\u001B[38;5;124m\"\u001B[39m):\n\u001B[1;32m   1749\u001B[0m     \u001B[38;5;28;01mraise\u001B[39;00m \u001B[38;5;167;01mTypeError\u001B[39;00m(\u001B[38;5;124m\"\u001B[39m\u001B[38;5;132;01m%s\u001B[39;00m\u001B[38;5;124m is not an estimator instance.\u001B[39m\u001B[38;5;124m\"\u001B[39m \u001B[38;5;241m%\u001B[39m (estimator))\n\u001B[0;32m-> 1751\u001B[0m tags \u001B[38;5;241m=\u001B[39m \u001B[43mget_tags\u001B[49m\u001B[43m(\u001B[49m\u001B[43mestimator\u001B[49m\u001B[43m)\u001B[49m\n\u001B[1;32m   1753\u001B[0m \u001B[38;5;28;01mif\u001B[39;00m \u001B[38;5;129;01mnot\u001B[39;00m tags\u001B[38;5;241m.\u001B[39mrequires_fit \u001B[38;5;129;01mand\u001B[39;00m attributes \u001B[38;5;129;01mis\u001B[39;00m \u001B[38;5;28;01mNone\u001B[39;00m:\n\u001B[1;32m   1754\u001B[0m     \u001B[38;5;28;01mreturn\u001B[39;00m\n",
      "File \u001B[0;32m~/miniforge3/envs/xerini/lib/python3.10/site-packages/sklearn/utils/_tags.py:430\u001B[0m, in \u001B[0;36mget_tags\u001B[0;34m(estimator)\u001B[0m\n\u001B[1;32m    428\u001B[0m \u001B[38;5;28;01mfor\u001B[39;00m klass \u001B[38;5;129;01min\u001B[39;00m \u001B[38;5;28mreversed\u001B[39m(\u001B[38;5;28mtype\u001B[39m(estimator)\u001B[38;5;241m.\u001B[39mmro()):\n\u001B[1;32m    429\u001B[0m     \u001B[38;5;28;01mif\u001B[39;00m \u001B[38;5;124m\"\u001B[39m\u001B[38;5;124m__sklearn_tags__\u001B[39m\u001B[38;5;124m\"\u001B[39m \u001B[38;5;129;01min\u001B[39;00m \u001B[38;5;28mvars\u001B[39m(klass):\n\u001B[0;32m--> 430\u001B[0m         sklearn_tags_provider[klass] \u001B[38;5;241m=\u001B[39m \u001B[43mklass\u001B[49m\u001B[38;5;241;43m.\u001B[39;49m\u001B[43m__sklearn_tags__\u001B[49m\u001B[43m(\u001B[49m\u001B[43mestimator\u001B[49m\u001B[43m)\u001B[49m  \u001B[38;5;66;03m# type: ignore[attr-defined]\u001B[39;00m\n\u001B[1;32m    431\u001B[0m         class_order\u001B[38;5;241m.\u001B[39mappend(klass)\n\u001B[1;32m    432\u001B[0m     \u001B[38;5;28;01melif\u001B[39;00m \u001B[38;5;124m\"\u001B[39m\u001B[38;5;124m_more_tags\u001B[39m\u001B[38;5;124m\"\u001B[39m \u001B[38;5;129;01min\u001B[39;00m \u001B[38;5;28mvars\u001B[39m(klass):\n",
      "File \u001B[0;32m~/miniforge3/envs/xerini/lib/python3.10/site-packages/sklearn/base.py:613\u001B[0m, in \u001B[0;36mRegressorMixin.__sklearn_tags__\u001B[0;34m(self)\u001B[0m\n\u001B[1;32m    612\u001B[0m \u001B[38;5;28;01mdef\u001B[39;00m \u001B[38;5;21m__sklearn_tags__\u001B[39m(\u001B[38;5;28mself\u001B[39m):\n\u001B[0;32m--> 613\u001B[0m     tags \u001B[38;5;241m=\u001B[39m \u001B[38;5;28;43msuper\u001B[39;49m\u001B[43m(\u001B[49m\u001B[43m)\u001B[49m\u001B[38;5;241;43m.\u001B[39;49m\u001B[43m__sklearn_tags__\u001B[49m()\n\u001B[1;32m    614\u001B[0m     tags\u001B[38;5;241m.\u001B[39mestimator_type \u001B[38;5;241m=\u001B[39m \u001B[38;5;124m\"\u001B[39m\u001B[38;5;124mregressor\u001B[39m\u001B[38;5;124m\"\u001B[39m\n\u001B[1;32m    615\u001B[0m     tags\u001B[38;5;241m.\u001B[39mregressor_tags \u001B[38;5;241m=\u001B[39m RegressorTags()\n",
      "\u001B[0;31mAttributeError\u001B[0m: 'super' object has no attribute '__sklearn_tags__'"
     ]
    },
    {
     "ename": "AttributeError",
     "evalue": "'super' object has no attribute '__sklearn_tags__'",
     "output_type": "error",
     "traceback": [
      "\u001B[0;31m---------------------------------------------------------------------------\u001B[0m",
      "\u001B[0;31mAttributeError\u001B[0m                            Traceback (most recent call last)",
      "File \u001B[0;32m~/miniforge3/envs/xerini/lib/python3.10/site-packages/IPython/core/formatters.py:343\u001B[0m, in \u001B[0;36mBaseFormatter.__call__\u001B[0;34m(self, obj)\u001B[0m\n\u001B[1;32m    341\u001B[0m     method \u001B[38;5;241m=\u001B[39m get_real_method(obj, \u001B[38;5;28mself\u001B[39m\u001B[38;5;241m.\u001B[39mprint_method)\n\u001B[1;32m    342\u001B[0m     \u001B[38;5;28;01mif\u001B[39;00m method \u001B[38;5;129;01mis\u001B[39;00m \u001B[38;5;129;01mnot\u001B[39;00m \u001B[38;5;28;01mNone\u001B[39;00m:\n\u001B[0;32m--> 343\u001B[0m         \u001B[38;5;28;01mreturn\u001B[39;00m \u001B[43mmethod\u001B[49m\u001B[43m(\u001B[49m\u001B[43m)\u001B[49m\n\u001B[1;32m    344\u001B[0m     \u001B[38;5;28;01mreturn\u001B[39;00m \u001B[38;5;28;01mNone\u001B[39;00m\n\u001B[1;32m    345\u001B[0m \u001B[38;5;28;01melse\u001B[39;00m:\n",
      "File \u001B[0;32m~/miniforge3/envs/xerini/lib/python3.10/site-packages/sklearn/base.py:463\u001B[0m, in \u001B[0;36mBaseEstimator._repr_html_inner\u001B[0;34m(self)\u001B[0m\n\u001B[1;32m    458\u001B[0m \u001B[38;5;28;01mdef\u001B[39;00m \u001B[38;5;21m_repr_html_inner\u001B[39m(\u001B[38;5;28mself\u001B[39m):\n\u001B[1;32m    459\u001B[0m     \u001B[38;5;124;03m\"\"\"This function is returned by the @property `_repr_html_` to make\u001B[39;00m\n\u001B[1;32m    460\u001B[0m \u001B[38;5;124;03m    `hasattr(estimator, \"_repr_html_\") return `True` or `False` depending\u001B[39;00m\n\u001B[1;32m    461\u001B[0m \u001B[38;5;124;03m    on `get_config()[\"display\"]`.\u001B[39;00m\n\u001B[1;32m    462\u001B[0m \u001B[38;5;124;03m    \"\"\"\u001B[39;00m\n\u001B[0;32m--> 463\u001B[0m     \u001B[38;5;28;01mreturn\u001B[39;00m \u001B[43mestimator_html_repr\u001B[49m\u001B[43m(\u001B[49m\u001B[38;5;28;43mself\u001B[39;49m\u001B[43m)\u001B[49m\n",
      "File \u001B[0;32m~/miniforge3/envs/xerini/lib/python3.10/site-packages/sklearn/utils/_estimator_html_repr.py:387\u001B[0m, in \u001B[0;36mestimator_html_repr\u001B[0;34m(estimator)\u001B[0m\n\u001B[1;32m    385\u001B[0m \u001B[38;5;28;01melse\u001B[39;00m:\n\u001B[1;32m    386\u001B[0m     \u001B[38;5;28;01mtry\u001B[39;00m:\n\u001B[0;32m--> 387\u001B[0m         \u001B[43mcheck_is_fitted\u001B[49m\u001B[43m(\u001B[49m\u001B[43mestimator\u001B[49m\u001B[43m)\u001B[49m\n\u001B[1;32m    388\u001B[0m         status_label \u001B[38;5;241m=\u001B[39m \u001B[38;5;124m\"\u001B[39m\u001B[38;5;124m<span>Fitted</span>\u001B[39m\u001B[38;5;124m\"\u001B[39m\n\u001B[1;32m    389\u001B[0m         is_fitted_css_class \u001B[38;5;241m=\u001B[39m \u001B[38;5;124m\"\u001B[39m\u001B[38;5;124mfitted\u001B[39m\u001B[38;5;124m\"\u001B[39m\n",
      "File \u001B[0;32m~/miniforge3/envs/xerini/lib/python3.10/site-packages/sklearn/utils/validation.py:1751\u001B[0m, in \u001B[0;36mcheck_is_fitted\u001B[0;34m(estimator, attributes, msg, all_or_any)\u001B[0m\n\u001B[1;32m   1748\u001B[0m \u001B[38;5;28;01mif\u001B[39;00m \u001B[38;5;129;01mnot\u001B[39;00m \u001B[38;5;28mhasattr\u001B[39m(estimator, \u001B[38;5;124m\"\u001B[39m\u001B[38;5;124mfit\u001B[39m\u001B[38;5;124m\"\u001B[39m):\n\u001B[1;32m   1749\u001B[0m     \u001B[38;5;28;01mraise\u001B[39;00m \u001B[38;5;167;01mTypeError\u001B[39;00m(\u001B[38;5;124m\"\u001B[39m\u001B[38;5;132;01m%s\u001B[39;00m\u001B[38;5;124m is not an estimator instance.\u001B[39m\u001B[38;5;124m\"\u001B[39m \u001B[38;5;241m%\u001B[39m (estimator))\n\u001B[0;32m-> 1751\u001B[0m tags \u001B[38;5;241m=\u001B[39m \u001B[43mget_tags\u001B[49m\u001B[43m(\u001B[49m\u001B[43mestimator\u001B[49m\u001B[43m)\u001B[49m\n\u001B[1;32m   1753\u001B[0m \u001B[38;5;28;01mif\u001B[39;00m \u001B[38;5;129;01mnot\u001B[39;00m tags\u001B[38;5;241m.\u001B[39mrequires_fit \u001B[38;5;129;01mand\u001B[39;00m attributes \u001B[38;5;129;01mis\u001B[39;00m \u001B[38;5;28;01mNone\u001B[39;00m:\n\u001B[1;32m   1754\u001B[0m     \u001B[38;5;28;01mreturn\u001B[39;00m\n",
      "File \u001B[0;32m~/miniforge3/envs/xerini/lib/python3.10/site-packages/sklearn/utils/_tags.py:430\u001B[0m, in \u001B[0;36mget_tags\u001B[0;34m(estimator)\u001B[0m\n\u001B[1;32m    428\u001B[0m \u001B[38;5;28;01mfor\u001B[39;00m klass \u001B[38;5;129;01min\u001B[39;00m \u001B[38;5;28mreversed\u001B[39m(\u001B[38;5;28mtype\u001B[39m(estimator)\u001B[38;5;241m.\u001B[39mmro()):\n\u001B[1;32m    429\u001B[0m     \u001B[38;5;28;01mif\u001B[39;00m \u001B[38;5;124m\"\u001B[39m\u001B[38;5;124m__sklearn_tags__\u001B[39m\u001B[38;5;124m\"\u001B[39m \u001B[38;5;129;01min\u001B[39;00m \u001B[38;5;28mvars\u001B[39m(klass):\n\u001B[0;32m--> 430\u001B[0m         sklearn_tags_provider[klass] \u001B[38;5;241m=\u001B[39m \u001B[43mklass\u001B[49m\u001B[38;5;241;43m.\u001B[39;49m\u001B[43m__sklearn_tags__\u001B[49m\u001B[43m(\u001B[49m\u001B[43mestimator\u001B[49m\u001B[43m)\u001B[49m  \u001B[38;5;66;03m# type: ignore[attr-defined]\u001B[39;00m\n\u001B[1;32m    431\u001B[0m         class_order\u001B[38;5;241m.\u001B[39mappend(klass)\n\u001B[1;32m    432\u001B[0m     \u001B[38;5;28;01melif\u001B[39;00m \u001B[38;5;124m\"\u001B[39m\u001B[38;5;124m_more_tags\u001B[39m\u001B[38;5;124m\"\u001B[39m \u001B[38;5;129;01min\u001B[39;00m \u001B[38;5;28mvars\u001B[39m(klass):\n",
      "File \u001B[0;32m~/miniforge3/envs/xerini/lib/python3.10/site-packages/sklearn/base.py:613\u001B[0m, in \u001B[0;36mRegressorMixin.__sklearn_tags__\u001B[0;34m(self)\u001B[0m\n\u001B[1;32m    612\u001B[0m \u001B[38;5;28;01mdef\u001B[39;00m \u001B[38;5;21m__sklearn_tags__\u001B[39m(\u001B[38;5;28mself\u001B[39m):\n\u001B[0;32m--> 613\u001B[0m     tags \u001B[38;5;241m=\u001B[39m \u001B[38;5;28;43msuper\u001B[39;49m\u001B[43m(\u001B[49m\u001B[43m)\u001B[49m\u001B[38;5;241;43m.\u001B[39;49m\u001B[43m__sklearn_tags__\u001B[49m()\n\u001B[1;32m    614\u001B[0m     tags\u001B[38;5;241m.\u001B[39mestimator_type \u001B[38;5;241m=\u001B[39m \u001B[38;5;124m\"\u001B[39m\u001B[38;5;124mregressor\u001B[39m\u001B[38;5;124m\"\u001B[39m\n\u001B[1;32m    615\u001B[0m     tags\u001B[38;5;241m.\u001B[39mregressor_tags \u001B[38;5;241m=\u001B[39m RegressorTags()\n",
      "\u001B[0;31mAttributeError\u001B[0m: 'super' object has no attribute '__sklearn_tags__'"
     ]
    },
    {
     "data": {
      "text/plain": [
       "XGBRegressor(base_score=None, booster=None, callbacks=None,\n",
       "             colsample_bylevel=None, colsample_bynode=None,\n",
       "             colsample_bytree=None, early_stopping_rounds=None,\n",
       "             enable_categorical=False, eval_metric=None, feature_types=None,\n",
       "             gamma=None, gpu_id=None, grow_policy=None, importance_type=None,\n",
       "             interaction_constraints=None, learning_rate=None, max_bin=None,\n",
       "             max_cat_threshold=None, max_cat_to_onehot=None,\n",
       "             max_delta_step=None, max_depth=None, max_leaves=None,\n",
       "             min_child_weight=None, missing=nan, monotone_constraints=None,\n",
       "             n_estimators=100, n_jobs=None, num_parallel_tree=None,\n",
       "             predictor=None, random_state=None, ...)"
      ]
     },
     "execution_count": 54,
     "metadata": {},
     "output_type": "execute_result"
    }
   ],
   "execution_count": 54
  },
  {
   "metadata": {},
   "cell_type": "markdown",
   "source": "# Model Evaluation",
   "id": "57f96e9f7f89e859"
  },
  {
   "metadata": {
    "ExecuteTime": {
     "end_time": "2025-03-09T11:55:42.914381Z",
     "start_time": "2025-03-09T11:55:42.905716Z"
    }
   },
   "cell_type": "code",
   "source": [
    "from sklearn.metrics import mean_squared_error, r2_score\n",
    "\n",
    "# Predictions\n",
    "train_pred = model.predict(train_X)\n",
    "test_pred = model.predict(test_X)\n",
    "\n",
    "# Compute metrics\n",
    "train_rmse = mean_squared_error(train_y, train_pred)\n",
    "test_rmse = mean_squared_error(test_y, test_pred)\n",
    "train_r2 = r2_score(train_y, train_pred)\n",
    "test_r2 = r2_score(test_y, test_pred)\n",
    "\n",
    "print(f\"Train RMSE = {train_rmse:.0f},  R² = {train_r2:.3f}\")\n",
    "print(f\"Test  RMSE = {test_rmse:.0f},  R² = {test_r2:.3f}\")\n"
   ],
   "id": "acda9c21025d37dc",
   "outputs": [
    {
     "name": "stdout",
     "output_type": "stream",
     "text": [
      "Train RMSE = 39051998,  R² = 1.000\n",
      "Test  RMSE = 50093113570,  R² = 0.886\n"
     ]
    }
   ],
   "execution_count": 52
  },
  {
   "metadata": {
    "ExecuteTime": {
     "end_time": "2025-03-09T11:55:42.934087Z",
     "start_time": "2025-03-09T11:55:42.930181Z"
    }
   },
   "cell_type": "code",
   "source": [
    "# Compare sample actual vs predicted sales in test set\n",
    "for date, actual, pred in list(zip(test_y.index, test_y, test_pred))[:5]:\n",
    "    print(f\"{date.date()}  actual={actual:.0f},  predicted={pred:.0f}\")\n"
   ],
   "id": "10166199230f3839",
   "outputs": [
    {
     "name": "stdout",
     "output_type": "stream",
     "text": [
      "2019-01-07  actual=2566165,  predicted=2679471\n",
      "2019-01-14  actual=2554828,  predicted=2725623\n",
      "2019-01-21  actual=1959707,  predicted=2015990\n",
      "2019-01-28  actual=2424487,  predicted=2285588\n",
      "2019-02-04  actual=1953060,  predicted=1964276\n"
     ]
    }
   ],
   "execution_count": 53
  }
 ],
 "metadata": {
  "kernelspec": {
   "display_name": "Python 3",
   "language": "python",
   "name": "python3"
  },
  "language_info": {
   "codemirror_mode": {
    "name": "ipython",
    "version": 2
   },
   "file_extension": ".py",
   "mimetype": "text/x-python",
   "name": "python",
   "nbconvert_exporter": "python",
   "pygments_lexer": "ipython2",
   "version": "2.7.6"
  }
 },
 "nbformat": 4,
 "nbformat_minor": 5
}
